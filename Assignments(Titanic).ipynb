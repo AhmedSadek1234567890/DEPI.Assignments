file_path = r"C:\Users\Admin\Downloads\Titanic.xlsx"  #!path to the file 
titanic = pd.read_excel(file_path)

print(titanic.head())
#############################################
import seaborn as sns
import matplotlib.pyplot as plt

plt.figure(figsize=(6, 4))
sns.barplot(x=titanic['Sex'], y=titanic['Survived'])
plt.title('Number of Survivors by Gender')
plt.xlabel('Gender')
plt.ylabel('Survival Rate')
plt.show()
##############################
import seaborn as sns
import matplotlib.pyplot as plt

plt.figure(figsize=(6, 4))
sns.histplot(titanic['Age'].dropna(), bins=20, kde=True)
plt.title('Distribution of Titanic Passengers\' Ages')
plt.xlabel('Age')
plt.ylabel('Number of Passengers')
plt.show()
###############################################
import seaborn as sns
import matplotlib.pyplot as plt

plt.figure(figsize=(6, 4))
sns.countplot(x='Pclass', data=titanic, palette='pastel')
plt.title('Number of Passengers in Each Class')
plt.xlabel('Class')
plt.ylabel('Number of Passengers')
plt.show()
#####################################
import seaborn as sns
import matplotlib.pyplot as plt

plt.figure(figsize=(6, 4))
sns.boxplot(x='Pclass', y='Age', data=titanic, palette='coolwarm')
plt.title('Distribution of Passengers\' Ages by Class')
plt.xlabel('Class')
plt.ylabel('Age')
plt.show()
#######################################
